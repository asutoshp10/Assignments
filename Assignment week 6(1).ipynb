{
 "cells": [
  {
   "cell_type": "markdown",
   "id": "165b962d-7588-4510-adf8-7cae54ca588b",
   "metadata": {},
   "source": [
    "1.> Database is a organised collection of datas or information.\n",
    "SQL is the collection of structred database where as NOSQL is the collection of unstructred database\n"
   ]
  },
  {
   "cell_type": "markdown",
   "id": "2d394794-a611-4efb-af4f-414f53215419",
   "metadata": {},
   "source": [
    "2.>DDL stands for defination language. It is used to create or modify structres of objects in a database\n",
    "(i)CREATE is used to create a database or table. eg: CREATE TABLE table_name\n",
    "(ii)DROP is used to delete column or table. eg: DROP TABLE table_name\n",
    "(iii)ALTER is used to add , delete or modify columns. eg: ALTER TABLE table_name\n",
    "                                                          DROP column_name\n",
    "(iv)TRUNCATE is used to delete all the datas in a table without deleting the table. eg: TRUNCATE TABLE table_name"
   ]
  },
  {
   "cell_type": "markdown",
   "id": "6d4dbf15-c639-407a-9012-6e57bce4519f",
   "metadata": {},
   "source": [
    "3.>DML stands for Date Managing Language. It controlls access to database\n",
    "(i)INSERT is used to insert table in a database.\n",
    "   eg: INSERT INTO table_name(column_name,..) VALUES(value1,...)\n",
    "(ii)UPDATE is used to update or modify the existing data. \n",
    "   eg: UPDATE table_name SET(column_name=value1,...)\n",
    "(iii)DELETE is used to delete existing data.\n",
    "   eg: DELETE FROM Table_Name WHERE condition\n",
    "   "
   ]
  },
  {
   "cell_type": "markdown",
   "id": "ca6d5c9b-c0ab-4f66-a6e2-319a56b385c0",
   "metadata": {},
   "source": [
    "4.>The full form of DQL is Data Query Language. DQL statements are used for performing queries on the data within schema objects.\n",
    "SELECT is used to fetch datas from 1 or more database. \n",
    "eg: SELECT column1, column2 FROM table1, table2 WHERE column2='value'\n"
   ]
  },
  {
   "cell_type": "markdown",
   "id": "d21907ab-9cf5-4e13-8546-5bf2a644f023",
   "metadata": {},
   "source": [
    "5.>A primary key generally focuses on the uniqueness of the table. It assures the value in the specific column is unique. A foreign key is generally used to build a relationship between the two tables. The table allows only one primary key.\n"
   ]
  },
  {
   "cell_type": "markdown",
   "id": "95fdd20b-1f88-4a0b-bfb1-9fe5eebfbb80",
   "metadata": {},
   "source": [
    "6.>import mysql.connector\n",
    "\n",
    "   mydb = mysql.connector.connect(\n",
    "     host=\"localhost\",\n",
    "     user=\"yourusername\",\n",
    "     password=\"yourpassword\"\n",
    "   )\n",
    "\n",
    "print(mydb)\n",
    "\n",
    "cursor() allows step by step processing of the result sets\n",
    "execute() allows to execute the set wit the help of cursor()"
   ]
  },
  {
   "cell_type": "code",
   "execution_count": null,
   "id": "d46e6879-9e21-4253-9712-8de7d0b85bc1",
   "metadata": {},
   "outputs": [],
   "source": []
  }
 ],
 "metadata": {
  "kernelspec": {
   "display_name": "Python 3 (ipykernel)",
   "language": "python",
   "name": "python3"
  },
  "language_info": {
   "codemirror_mode": {
    "name": "ipython",
    "version": 3
   },
   "file_extension": ".py",
   "mimetype": "text/x-python",
   "name": "python",
   "nbconvert_exporter": "python",
   "pygments_lexer": "ipython3",
   "version": "3.10.8"
  }
 },
 "nbformat": 4,
 "nbformat_minor": 5
}
