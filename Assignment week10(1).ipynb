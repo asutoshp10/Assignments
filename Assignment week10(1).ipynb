{
 "cells": [
  {
   "cell_type": "markdown",
   "id": "09a91982-65bf-451a-b420-e4ae0be4e7fb",
   "metadata": {},
   "source": [
    "1.>Statistics is an important part of data science, as it provides a set of mathematical methods and tools that enable us to answer important questions about data."
   ]
  },
  {
   "cell_type": "markdown",
   "id": "7d22d6a5-98af-44ae-86cf-cafa842cf6f4",
   "metadata": {},
   "source": [
    "2.>The types of Statics are :-\n",
    "\n",
    "(i)Descriptive Statistics- which offers methods to summarize data by transforming raw observations into meaningful information that is easy to interpret and share.eg. taking heights of a group of people\n",
    "\n",
    "(ii)Inferential Statistics- which offers methods to study experiments done on small samples of data and chalk out the inferences to the entire population (entire domain). eg. Exit poll prediction"
   ]
  },
  {
   "cell_type": "markdown",
   "id": "d0644e1d-97ba-4cf8-80b7-e9cb639eafcd",
   "metadata": {},
   "source": [
    "3.>There are two main types of data: qualitative and quantitative. Qualitative data describes characteristics or attributes, while quantitative data can be measured and represented numerically\n",
    "\n",
    "Nominal: The color of a car (e.g., red, blue, black)\n",
    "\n",
    "Ordinal: The level of education (e.g., high school, college, graduate school)\n",
    "\n",
    "Discrete: The number of pets owned by a person (e.g., 0, 1, 2)\n",
    "\n",
    "Continuous: The temperature outside (e.g., 72.5 degrees Fahrenheit)"
   ]
  },
  {
   "cell_type": "markdown",
   "id": "1887889f-1fb2-4b6e-8aed-caaf9733d192",
   "metadata": {},
   "source": [
    "4.>(i)Ordinal\n",
    "\n",
    "(ii) Nominal\n",
    "\n",
    "(iii) Continous\n",
    "\n",
    "(iv) Discrete"
   ]
  },
  {
   "cell_type": "markdown",
   "id": "bd38daae-8ff4-4c23-bf99-09f3d6da2c0f",
   "metadata": {},
   "source": [
    "5.>Nominal: Nominal data can only be categorized. It is data that can be placed into categories, but the categories do not have any order or structure. An example of a nominal variable is gender, where the two categories are male and female1.\n",
    "Ordinal: Ordinal data can be categorized and ranked. It is data that can be placed into categories that have a specific order. An example of an ordinal variable is star ratings, where the categories are one star, two stars, three stars, four stars, and five stars1.\n",
    "Interval: Interval data can be categorized, ranked, and evenly spaced. It is data that has a consistent scale but no true zero point. An example of an interval variable is temperature measured in degrees Celsius or Fahrenheit1.\n",
    "Ratio: Ratio data can be categorized, ranked, evenly spaced, and has a natural zero. It is data that has a consistent scale and a true zero point. An example of a ratio variable is height measured in centimeters or inches1."
   ]
  },
  {
   "cell_type": "markdown",
   "id": "88f9684f-8e6f-45f5-bc9f-20259c225801",
   "metadata": {},
   "source": [
    "6.>t is important to understand the level of measurement when analyzing data because it determines what statistical analysis can be performed on the data. Different levels of measurement have different properties and require different statistical methods to analyze the data."
   ]
  },
  {
   "cell_type": "markdown",
   "id": "7697671c-4012-4d9d-b466-d4569fe62169",
   "metadata": {},
   "source": [
    "7.>Nominal data type is used only to categorise. But it does not categorise according to aby rank but on the other hand , Ordinal data type is used to categorise according to rank."
   ]
  },
  {
   "cell_type": "markdown",
   "id": "1f5d7c39-1c84-4ffd-8383-f2d699a740de",
   "metadata": {},
   "source": [
    "8.>Ordinal data type is used to display data in terms of range"
   ]
  },
  {
   "cell_type": "markdown",
   "id": "1bbaac63-37f4-46b7-acff-170225897ebb",
   "metadata": {},
   "source": [
    "9.>Descriptive Statisticsoffers methods to summarize data by transforming raw observations into meaningful information that is easy to interpret and share.eg. taking heights of a group of people where as Inferential Statistics- whic offers methods to study experiments done on small samples of data and chalk out the inferences to the entire population (entire domain). eg. Exit poll prediction"
   ]
  }
 ],
 "metadata": {
  "kernelspec": {
   "display_name": "Python 3 (ipykernel)",
   "language": "python",
   "name": "python3"
  },
  "language_info": {
   "codemirror_mode": {
    "name": "ipython",
    "version": 3
   },
   "file_extension": ".py",
   "mimetype": "text/x-python",
   "name": "python",
   "nbconvert_exporter": "python",
   "pygments_lexer": "ipython3",
   "version": "3.10.8"
  }
 },
 "nbformat": 4,
 "nbformat_minor": 5
}
