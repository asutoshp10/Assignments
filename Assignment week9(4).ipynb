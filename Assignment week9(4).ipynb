{
 "cells": [
  {
   "cell_type": "code",
   "execution_count": 13,
   "id": "3bd5da55-d9cd-4a7d-b5fb-ad02e5cbf6a2",
   "metadata": {},
   "outputs": [],
   "source": [
    "from plotly import graph_objects as go\n",
    "import seaborn as sns"
   ]
  },
  {
   "cell_type": "code",
   "execution_count": null,
   "id": "23345739-d04d-43c1-b7b0-c10a2f493274",
   "metadata": {},
   "outputs": [],
   "source": [
    "#1.>\n",
    "df1=sns.load_dataset('titanic')\n",
    "fig=go.Figure()\n",
    "fig.add_trace(go.Scatter(x=df['age'],y=))"
   ]
  }
 ],
 "metadata": {
  "kernelspec": {
   "display_name": "Python 3 (ipykernel)",
   "language": "python",
   "name": "python3"
  },
  "language_info": {
   "codemirror_mode": {
    "name": "ipython",
    "version": 3
   },
   "file_extension": ".py",
   "mimetype": "text/x-python",
   "name": "python",
   "nbconvert_exporter": "python",
   "pygments_lexer": "ipython3",
   "version": "3.10.8"
  }
 },
 "nbformat": 4,
 "nbformat_minor": 5
}
