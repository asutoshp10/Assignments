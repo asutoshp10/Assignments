{
 "cells": [
  {
   "cell_type": "code",
   "execution_count": 1,
   "id": "08d2d1a7-a833-4b80-8f80-e87c91142e36",
   "metadata": {},
   "outputs": [],
   "source": [
    "import pandas as pd\n",
    "course_name = ['Data Science', 'Machine Learning', 'Big Data', 'Data Engineer']\n",
    "duration = [2,3,6,4]\n",
    "df = pd.DataFrame(data = {'course_name' : course_name, 'duration' : duration})"
   ]
  },
  {
   "cell_type": "code",
   "execution_count": 5,
   "id": "6e6d5e56-6d41-45e8-bd3a-1dadcce1f064",
   "metadata": {},
   "outputs": [
    {
     "data": {
      "text/html": [
       "<div>\n",
       "<style scoped>\n",
       "    .dataframe tbody tr th:only-of-type {\n",
       "        vertical-align: middle;\n",
       "    }\n",
       "\n",
       "    .dataframe tbody tr th {\n",
       "        vertical-align: top;\n",
       "    }\n",
       "\n",
       "    .dataframe thead th {\n",
       "        text-align: right;\n",
       "    }\n",
       "</style>\n",
       "<table border=\"1\" class=\"dataframe\">\n",
       "  <thead>\n",
       "    <tr style=\"text-align: right;\">\n",
       "      <th></th>\n",
       "      <th>course_name</th>\n",
       "      <th>duration</th>\n",
       "    </tr>\n",
       "  </thead>\n",
       "  <tbody>\n",
       "    <tr>\n",
       "      <th>1</th>\n",
       "      <td>Machine Learning</td>\n",
       "      <td>3</td>\n",
       "    </tr>\n",
       "  </tbody>\n",
       "</table>\n",
       "</div>"
      ],
      "text/plain": [
       "        course_name  duration\n",
       "1  Machine Learning         3"
      ]
     },
     "execution_count": 5,
     "metadata": {},
     "output_type": "execute_result"
    }
   ],
   "source": [
    "#1.>\n",
    "df[df.index==1]"
   ]
  },
  {
   "cell_type": "markdown",
   "id": "4d49cf23-2fc8-4984-8ae8-8f150f901778",
   "metadata": {},
   "source": [
    "2.> The main difference between them is that loc gets rows (and/or columns) with particular labels, while iloc gets rows (and/or columns) at integer locations.In other words, loc is typically used for label-based indexing and can access multiple columns, while iloc is used for integer-based indexing1."
   ]
  },
  {
   "cell_type": "code",
   "execution_count": 27,
   "id": "a245c372-349e-468a-8e58-115d8057f2fb",
   "metadata": {},
   "outputs": [
    {
     "name": "stdout",
     "output_type": "stream",
     "text": [
      "course_name    Data Engineer\n",
      "duration                   4\n",
      "Name: 2, dtype: object\n",
      "course_name    Big Data\n",
      "duration              6\n",
      "Name: 1, dtype: object\n"
     ]
    }
   ],
   "source": [
    "#3.>\n",
    "reindex = [3,0,1,2]\n",
    "df.index=reindex\n",
    "print(df.loc[2])\n",
    "print(df.iloc[2])"
   ]
  },
  {
   "cell_type": "code",
   "execution_count": 53,
   "id": "b7916607-f7a3-4b31-998c-a548c8f0e407",
   "metadata": {},
   "outputs": [
    {
     "data": {
      "text/html": [
       "<div>\n",
       "<style scoped>\n",
       "    .dataframe tbody tr th:only-of-type {\n",
       "        vertical-align: middle;\n",
       "    }\n",
       "\n",
       "    .dataframe tbody tr th {\n",
       "        vertical-align: top;\n",
       "    }\n",
       "\n",
       "    .dataframe thead th {\n",
       "        text-align: right;\n",
       "    }\n",
       "</style>\n",
       "<table border=\"1\" class=\"dataframe\">\n",
       "  <thead>\n",
       "    <tr style=\"text-align: right;\">\n",
       "      <th></th>\n",
       "      <th>column_1</th>\n",
       "      <th>column_2</th>\n",
       "      <th>column_3</th>\n",
       "      <th>column_4</th>\n",
       "      <th>column_5</th>\n",
       "      <th>column_6</th>\n",
       "    </tr>\n",
       "  </thead>\n",
       "  <tbody>\n",
       "    <tr>\n",
       "      <th>1</th>\n",
       "      <td>0.861752</td>\n",
       "      <td>0.585422</td>\n",
       "      <td>0.582002</td>\n",
       "      <td>0.822186</td>\n",
       "      <td>0.467793</td>\n",
       "      <td>0.397993</td>\n",
       "    </tr>\n",
       "    <tr>\n",
       "      <th>2</th>\n",
       "      <td>0.010820</td>\n",
       "      <td>0.972634</td>\n",
       "      <td>0.206201</td>\n",
       "      <td>0.203269</td>\n",
       "      <td>0.934289</td>\n",
       "      <td>0.280988</td>\n",
       "    </tr>\n",
       "    <tr>\n",
       "      <th>3</th>\n",
       "      <td>0.744620</td>\n",
       "      <td>0.857795</td>\n",
       "      <td>0.943541</td>\n",
       "      <td>0.729293</td>\n",
       "      <td>0.436274</td>\n",
       "      <td>0.917748</td>\n",
       "    </tr>\n",
       "    <tr>\n",
       "      <th>4</th>\n",
       "      <td>0.656133</td>\n",
       "      <td>0.824565</td>\n",
       "      <td>0.713132</td>\n",
       "      <td>0.824874</td>\n",
       "      <td>0.892166</td>\n",
       "      <td>0.008711</td>\n",
       "    </tr>\n",
       "    <tr>\n",
       "      <th>5</th>\n",
       "      <td>0.910354</td>\n",
       "      <td>0.354429</td>\n",
       "      <td>0.225441</td>\n",
       "      <td>0.392772</td>\n",
       "      <td>0.104633</td>\n",
       "      <td>0.560742</td>\n",
       "    </tr>\n",
       "    <tr>\n",
       "      <th>6</th>\n",
       "      <td>0.574824</td>\n",
       "      <td>0.935738</td>\n",
       "      <td>0.386610</td>\n",
       "      <td>0.092983</td>\n",
       "      <td>0.198589</td>\n",
       "      <td>0.537879</td>\n",
       "    </tr>\n",
       "  </tbody>\n",
       "</table>\n",
       "</div>"
      ],
      "text/plain": [
       "   column_1  column_2  column_3  column_4  column_5  column_6\n",
       "1  0.861752  0.585422  0.582002  0.822186  0.467793  0.397993\n",
       "2  0.010820  0.972634  0.206201  0.203269  0.934289  0.280988\n",
       "3  0.744620  0.857795  0.943541  0.729293  0.436274  0.917748\n",
       "4  0.656133  0.824565  0.713132  0.824874  0.892166  0.008711\n",
       "5  0.910354  0.354429  0.225441  0.392772  0.104633  0.560742\n",
       "6  0.574824  0.935738  0.386610  0.092983  0.198589  0.537879"
      ]
     },
     "execution_count": 53,
     "metadata": {},
     "output_type": "execute_result"
    }
   ],
   "source": [
    "import pandas as pd\n",
    "import numpy as np\n",
    "columns = ['column_1', 'column_2', 'column_3', 'column_4', 'column_5', 'column_6']\n",
    "indices = [1,2,3,4,5,6]\n",
    "#Creating a dataframe:\n",
    "df1 = pd.DataFrame(np.random.rand(6,6), columns = columns, index = indices)\n",
    "df1"
   ]
  },
  {
   "cell_type": "code",
   "execution_count": 54,
   "id": "6155f2d1-5e13-413f-b43d-9f5ceec878f3",
   "metadata": {},
   "outputs": [
    {
     "name": "stdout",
     "output_type": "stream",
     "text": [
      "Mean of column_1=0.626417149410469\n",
      "Mean of column_2=0.755097386400032\n",
      "Mean of column_3=0.509487759332074\n",
      "Mean of column_4=0.5108963885274735\n",
      "Mean of column_5=0.5056239664753183\n",
      "Mean of column_6=0.45067688099908043\n"
     ]
    }
   ],
   "source": [
    "#4.>\n",
    "a=1\n",
    "for i in list(df1.mean()):\n",
    "    print(f'Mean of column_{a}={i}')\n",
    "    a+=1\n",
    "    "
   ]
  },
  {
   "cell_type": "code",
   "execution_count": 55,
   "id": "2a9db8fc-6f9f-424c-a82c-5debfafa8d0b",
   "metadata": {},
   "outputs": [
    {
     "data": {
      "text/plain": [
       "0.23860051161609258"
      ]
     },
     "execution_count": 55,
     "metadata": {},
     "output_type": "execute_result"
    }
   ],
   "source": [
    "df1['column_2'].std()"
   ]
  },
  {
   "cell_type": "code",
   "execution_count": 61,
   "id": "73f601c7-ff8c-488b-96bb-cddf113230fb",
   "metadata": {},
   "outputs": [],
   "source": [
    "#5.>\n",
    "df1.loc[2,'column_2']='Natural Learnng Processing'\n",
    "#df1['column_2'].mean()\n",
    "\n",
    "#here it gives error because a string can not be used during any matematical opreations with intiger"
   ]
  },
  {
   "cell_type": "markdown",
   "id": "652dcb5b-c20d-44b1-b39e-b5325f808c0d",
   "metadata": {},
   "source": [
    "6.>\n",
    "Window functions in Pandas are used to perform calculations across a set of rows that are related to the current row. These functions take input values from a \"window\" of one or more rows in a series or a table and perform calculations over them. The word \"window\" refers to the number of rows between the two boundaries by which calculations are performed, including the boundary row.\n",
    "Pandas supports 4 types of windowing operations:\n",
    "1.Rolling window: Generic fixed or variable sliding window over the values.\n",
    "2.Weighted window: Weighted, non-rectangular window supplied by the scipy.signal library.\n",
    "3.Expanding window: Accumulating window over the values.\n",
    "4.Exponentially Weighted window: Accumulating and exponentially weighted window over the values.\n"
   ]
  },
  {
   "cell_type": "code",
   "execution_count": 8,
   "id": "7f86d12e-a05c-4b41-98b9-2cdaeec15608",
   "metadata": {},
   "outputs": [
    {
     "name": "stdout",
     "output_type": "stream",
     "text": [
      "2023\n",
      "7\n"
     ]
    }
   ],
   "source": [
    "#7.>\n",
    "date=pd.to_datetime('2023-07-27')\n",
    "print(date.year)\n",
    "print(date.month)"
   ]
  },
  {
   "cell_type": "code",
   "execution_count": 13,
   "id": "bab9b69a-a7ba-41ec-bd43-55ca60a47256",
   "metadata": {},
   "outputs": [
    {
     "name": "stdin",
     "output_type": "stream",
     "text": [
      "YYYY-MM-DD 2005-04-10\n",
      "YYYY-MM-DD 2023-07-27\n"
     ]
    },
    {
     "name": "stdout",
     "output_type": "stream",
     "text": [
      "Time difference=6682 days 00:00:00\n"
     ]
    }
   ],
   "source": [
    "#8.>\n",
    "date1=pd.to_datetime(input('YYYY-MM-DD'))\n",
    "date2=pd.to_datetime(input('YYYY-MM-DD'))\n",
    "print(f'Time difference={date2-date1}')"
   ]
  },
  {
   "cell_type": "code",
   "execution_count": 26,
   "id": "54cd5d33-ad08-49f0-bd50-5e633a4acd06",
   "metadata": {},
   "outputs": [
    {
     "data": {
      "text/plain": [
       "\"file=input('Enter the path of file')\\ndf=pd.read_csv(file)\\ncategory_basis=input('column_name')\\npd.Categorical(df[category_basis])\""
      ]
     },
     "execution_count": 26,
     "metadata": {},
     "output_type": "execute_result"
    }
   ],
   "source": [
    "#9.>\n",
    "file=input('Enter the path of file')\n",
    "df=pd.read_csv(file)\n",
    "category_basis=input('column_name')\n",
    "pd.Categorical(df[category_basis])"
   ]
  },
  {
   "cell_type": "code",
   "execution_count": 5,
   "id": "85874489-2f91-4286-88a4-56f7af30a442",
   "metadata": {},
   "outputs": [
    {
     "data": {
      "text/plain": [
       "<AxesSubplot: xlabel='date'>"
      ]
     },
     "execution_count": 5,
     "metadata": {},
     "output_type": "execute_result"
    },
    {
     "data": {
      "image/png": "[encoded data removed]",
      "text/plain": [
       "<Figure size 640x480 with 1 Axes>"
      ]
     },
     "metadata": {},
     "output_type": "display_data"
    }
   ],
   "source": [
    "#10\n",
    "import numpy as np\n",
    "df=pd.DataFrame({'sales': np.random.randint(1, 100, size=21),\n",
    "        'date': pd.date_range(start='2023-01-01', periods=21, freq='D')})\n",
    "df.plot.bar(x='date',y='sales')"
   ]
  },
  {
   "cell_type": "code",
   "execution_count": null,
   "id": "21cf89a3-4e77-45e9-a81a-935b2494470c",
   "metadata": {},
   "outputs": [],
   "source": [
    "#11.>\n",
    "file=input('Enter file path')\n",
    "df=pd.read_csv(file)\n",
    "Mean=df['test scores'].mean()\n",
    "Median=df['test scores'].median()\n",
    "Mode=df['test scores'].mode()\n",
    "df2=pd.DataFrame({'Opreations':['Mean','Median','Mode'],'Values':[Mean,Median,Mode]})"
   ]
  }
 ],
 "metadata": {
  "kernelspec": {
   "display_name": "Python 3 (ipykernel)",
   "language": "python",
   "name": "python3"
  },
  "language_info": {
   "codemirror_mode": {
    "name": "ipython",
    "version": 3
   },
   "file_extension": ".py",
   "mimetype": "text/x-python",
   "name": "python",
   "nbconvert_exporter": "python",
   "pygments_lexer": "ipython3",
   "version": "3.10.8"
  }
 },
 "nbformat": 4,
 "nbformat_minor": 5
}
