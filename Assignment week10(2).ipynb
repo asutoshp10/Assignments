{
 "cells": [
  {
   "cell_type": "markdown",
   "id": "a049608e-5649-4ba5-bbe5-63434e70fb95",
   "metadata": {},
   "source": [
    "1.>The three measure type pf centrall tendency are mena median and mode"
   ]
  },
  {
   "cell_type": "raw",
   "id": "21d3b233-da5c-4202-8959-3094ce826843",
   "metadata": {},
   "source": [
    "2.>The mean is the sum of all values divided by the total number of values. It is the same as the average value of a data set and is found using a calculation .\n",
    "\n",
    "The median is the middle number in an ordered data set .\n",
    "\n",
    "The mode is the most frequent value "
   ]
  },
  {
   "cell_type": "code",
   "execution_count": 3,
   "id": "47262618-9659-4d66-8b21-608864d786e0",
   "metadata": {},
   "outputs": [
    {
     "data": {
      "text/plain": [
       "177.01875"
      ]
     },
     "execution_count": 3,
     "metadata": {},
     "output_type": "execute_result"
    }
   ],
   "source": [
    "#3.>\n",
    "import numpy as np\n",
    "data=[178,177,176,177,178.2,178,175,179,180,175,178.9,176.2,177,172.5,178,176.5]\n",
    "np.mean(data)"
   ]
  },
  {
   "cell_type": "code",
   "execution_count": 5,
   "id": "03cdde77-0c8c-42a0-a0e3-f4626eec2dde",
   "metadata": {},
   "outputs": [
    {
     "data": {
      "text/plain": [
       "1.7885814036548633"
      ]
     },
     "execution_count": 5,
     "metadata": {},
     "output_type": "execute_result"
    }
   ],
   "source": [
    "#4.>\n",
    "np.std(data)"
   ]
  },
  {
   "cell_type": "code",
   "execution_count": 8,
   "id": "e20aad28-ab2e-46d4-8e55-03f1d26962d3",
   "metadata": {},
   "outputs": [
    {
     "name": "stdout",
     "output_type": "stream",
     "text": [
      "The variance of given data is:3.199023437500001\n",
      "The standard deviation of the given data is:1.7885814036548633\n"
     ]
    }
   ],
   "source": [
    "#5.>\n",
    "\"\"\"The range is the difference between the highest and lowest values 1\n",
    "\n",
    "The variance is the average of squared distances from the mean 1.\n",
    "\n",
    "The standard deviation is the square root of the variance and measures how spread out the data is from its mean.\n",
    "It is a measure of how spread out the data is from its mean \"\"\"\n",
    "data=[178,177,176,177,178.2,178,175,179,180,175,178.9,176.2,177,172.5,178,176.5]\n",
    "v=np.var(data)\n",
    "std=np.std(data)\n",
    "print(f'The variance of given data is:{v}') \n",
    "print(f'The standard deviation of the given data is:{std}')"
   ]
  },
  {
   "cell_type": "raw",
   "id": "8f3dac81-eaac-4f01-a684-13483c059f86",
   "metadata": {},
   "source": [
    "6.>A Venn diagram is a diagram that uses overlapping circles to illustrate the similarities, differences, and relationships between concepts, ideas, categories, or groups"
   ]
  },
  {
   "cell_type": "code",
   "execution_count": 11,
   "id": "5c3552ff-a52c-4525-bddd-9acf7880fa97",
   "metadata": {},
   "outputs": [
    {
     "name": "stdout",
     "output_type": "stream",
     "text": [
      "Intersection : [2 6]\n",
      "Union : [ 0  2  3  4  5  6  7  8 10]\n"
     ]
    }
   ],
   "source": [
    "#7.>\n",
    "a=np.array((2,3,4,5,6,7))\n",
    "b=np.array((0,2,6,8,10))\n",
    "print(f'Intersection : {np.intersect1d(a,b)}')\n",
    "print(f'Union : {np.union1d(a,b)}')\n"
   ]
  },
  {
   "cell_type": "raw",
   "id": "2b45c267-09cd-4fed-82ff-3010cd116532",
   "metadata": {},
   "source": [
    "8.>Skewness is a measure of the asymmetry of a distribution. It describes how much statistical data distribution is asymmetrical from the normal distribution, where distribution is equally divided on each side. A distribution can have right (or positive), left (or negative), or zero skewness "
   ]
  },
  {
   "cell_type": "raw",
   "id": "c3798ca8-3b80-44c2-b737-40cc00e9ba23",
   "metadata": {},
   "source": [
    "9.> In right or posetive skewed graph Mean < Median < Mode\n",
    "    In left or negative skewed graph  Mean > Median > Mode"
   ]
  },
  {
   "cell_type": "raw",
   "id": "f9e7e3d8-12bf-4071-b763-74443aab94b2",
   "metadata": {},
   "source": [
    "10.>Covariance shows how the two variables vary, whereas correlation shows the relationship and how they are related. Covariance indicates the direction of linear relationships, whereas correlation measures the direction and strength of the linear relationship between variables \n",
    "Covariance and Corellation are measured on the basis of there formulas"
   ]
  },
  {
   "cell_type": "code",
   "execution_count": 13,
   "id": "bc532f15-52ed-481d-897a-123a19e4223d",
   "metadata": {},
   "outputs": [
    {
     "name": "stdout",
     "output_type": "stream",
     "text": [
      "Mean : 177.01875\n"
     ]
    }
   ],
   "source": [
    "#11.>\n",
    "\"\"\"The formula to calculate mean is to divide the sum of values in the data with the number of values in \n",
    "the data\"\"\"\n",
    "data=[178,177,176,177,178.2,178,175,179,180,175,178.9,176.2,177,172.5,178,176.5]\n",
    "print(f'Mean : {np.mean(data)}')"
   ]
  },
  {
   "cell_type": "raw",
   "id": "8145da5e-7d86-4a83-a8a4-a583079ab92b",
   "metadata": {},
   "source": [
    "12.>In a normal distribution data the relation is like : Mean = Median = Mode"
   ]
  },
  {
   "cell_type": "raw",
   "id": "e5736d76-c712-4fd7-9d00-2d51f4e010e8",
   "metadata": {},
   "source": [
    "13.>Covariance shows how the two variables vary, whereas correlation shows the relationship and how they are related"
   ]
  },
  {
   "cell_type": "code",
   "execution_count": 14,
   "id": "f486a153-3503-44f5-80a5-7bc52aed3e43",
   "metadata": {},
   "outputs": [
    {
     "name": "stdout",
     "output_type": "stream",
     "text": [
      "Mean:5.0\n"
     ]
    }
   ],
   "source": [
    "#14.>\n",
    "data1=[1,2,3,4,5,6,7,8,9]\n",
    "print(f'Mean:{np.mean(data1)}')\n",
    "print(f'Median{np.median(data1)}')\n",
    "\n",
    "\"\"\"if there is a big number compared to other values in the dataset the the mean also increases from the actual\n",
    "centre and this is the reason for outlier.To handle it we use median\"\"\"\n",
    "data2=[1,2,3,4,5,6,7,8,900]\n",
    "print(f'Mean:{np.median(data2)}')"
   ]
  },
  {
   "cell_type": "code",
   "execution_count": null,
   "id": "334e96b5-6ada-43f5-a2ba-b6c793f1213a",
   "metadata": {},
   "outputs": [],
   "source": []
  }
 ],
 "metadata": {
  "kernelspec": {
   "display_name": "Python 3 (ipykernel)",
   "language": "python",
   "name": "python3"
  },
  "language_info": {
   "codemirror_mode": {
    "name": "ipython",
    "version": 3
   },
   "file_extension": ".py",
   "mimetype": "text/x-python",
   "name": "python",
   "nbconvert_exporter": "python",
   "pygments_lexer": "ipython3",
   "version": "3.10.8"
  }
 },
 "nbformat": 4,
 "nbformat_minor": 5
}
