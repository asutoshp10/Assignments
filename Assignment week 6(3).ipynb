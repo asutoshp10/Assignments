{
 "cells": [
  {
   "cell_type": "markdown",
   "id": "3c055a49-cb78-4f55-83cd-aabefd17582b",
   "metadata": {},
   "source": [
    "1.>An API stands for Application Programming Interface.It is a set of software code that helps different software communicate and exchange data with each other. APIs allow products and services to communicate with other products and services without knowing how they are implemented. \n",
    "example: we use Google map API in uber, we use chat gpt API Midjourney,etc"
   ]
  },
  {
   "cell_type": "markdown",
   "id": "876745fc-b7c8-4534-96bc-876204ec2eee",
   "metadata": {},
   "source": [
    "2.>Advantages of using APIs include:\n",
    "-Efficiency: APIs allow developers to access the functionality of other software without having to write the code themselves. This can save   time and effort, allowing developers to focus on other aspects of their application.\n",
    "-Interoperability: APIs allow different software applications to communicate with each other, even if they are written in different           programming languages or run on different platforms. This can help create a seamless user experience and improve the functionality of the   software .\n",
    "-Scalability: APIs can help manage the growth of an application by providing a standardized way to access its functionality. This can make     it easier to add new features or integrate with other systems as the application grows.\n",
    "\n",
    "Disadvantages of using APIs include:\n",
    "-Dependency: When using an API, developers are dependent on the provider of the API to maintain and update it. If the provider makes changes   to the API or discontinues it, this can cause problems for the application that relies on it.\n",
    "-Security: APIs can introduce security risks if they are not properly secured. For example, if an API is not properly authenticated, it       could allow unauthorized access to sensitive data or functionality.\n",
    "-Cost: Some APIs may require payment to use, which can add to the cost of developing and maintaining an application.\n",
    "\n",
    "\n"
   ]
  },
  {
   "cell_type": "markdown",
   "id": "29d91472-a4b3-4637-8b95-337571f13764",
   "metadata": {},
   "source": [
    "\n",
    "\n",
    "3.>A Web API is a type of API that uses HTTP to request data from a server and receive a response. Web APIs are commonly used to provide access to web-based services.The main difference between an API and a Web API is the way they are accessed. An API is a general term that can include local APIs that are accessed through function calls within the same application, as well as remote APIs that are accessed over a network.\n",
    "A Web API, on the other hand, is specifically designed to be accessed over the web using HTTP"
   ]
  },
  {
   "cell_type": "markdown",
   "id": "0efcfe93-b601-41ad-8c04-74c15c8f3c00",
   "metadata": {},
   "source": [
    "4.>REST (Representational State Transfer) is an architectural style for building web services.RESTful web services use HTTP methods (GET, POST, PUT, DELETE) to perform operations on resources, and the data is transferred in a standard format such as JSON or XML. REST is designed to be simple, lightweight, and scalable, making it a popular choice for building APIs.\n",
    "\n",
    "SOAP (Simple Object Access Protocol), on the other hand, is a protocol for exchanging structured information between systems. It uses XML as its message format and relies on application layer protocols such as HTTP and SMTP for message transmission. SOAP messages are more complex than REST messages and include a set of rules for encoding data and defining remote procedure calls\n"
   ]
  },
  {
   "cell_type": "code",
   "execution_count": null,
   "id": "9a3e668f-b5d2-47fc-a705-e89de7d13643",
   "metadata": {},
   "outputs": [],
   "source": []
  }
 ],
 "metadata": {
  "kernelspec": {
   "display_name": "Python 3 (ipykernel)",
   "language": "python",
   "name": "python3"
  },
  "language_info": {
   "codemirror_mode": {
    "name": "ipython",
    "version": 3
   },
   "file_extension": ".py",
   "mimetype": "text/x-python",
   "name": "python",
   "nbconvert_exporter": "python",
   "pygments_lexer": "ipython3",
   "version": "3.10.8"
  }
 },
 "nbformat": 4,
 "nbformat_minor": 5
}
