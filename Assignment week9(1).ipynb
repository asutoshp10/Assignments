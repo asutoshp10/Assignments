{
 "cells": [
  {
   "cell_type": "code",
   "execution_count": 1,
   "id": "72f6b13e-b81c-443c-8551-587f8c5f518f",
   "metadata": {},
   "outputs": [],
   "source": [
    "import numpy as np\n",
    "list_=['1','2','3','4','5']\n",
    "array_list=np.array(object=list_)"
   ]
  },
  {
   "cell_type": "code",
   "execution_count": 2,
   "id": "a435cffc-9f7e-4210-8774-c740ca7515fc",
   "metadata": {},
   "outputs": [
    {
     "name": "stdout",
     "output_type": "stream",
     "text": [
      "The data type of list_ is <class 'list'> and the datatype of array_list is <class 'numpy.ndarray'>\n"
     ]
    }
   ],
   "source": [
    "#1.> Yes there is difference between there datatypes\n",
    "print(f'The data type of list_ is {type(list_)} and the datatype of array_list is {type(array_list)}')"
   ]
  },
  {
   "cell_type": "code",
   "execution_count": 10,
   "id": "0c9a17ca-f8f0-438f-a6a9-c308a9adc913",
   "metadata": {},
   "outputs": [
    {
     "name": "stdout",
     "output_type": "stream",
     "text": [
      "The data type of variables in list_ are \n"
     ]
    },
    {
     "data": {
      "text/plain": [
       "[str, str, str, str, str]"
      ]
     },
     "execution_count": 10,
     "metadata": {},
     "output_type": "execute_result"
    }
   ],
   "source": [
    "#2.>\n",
    "#for list_\n",
    "a=[]\n",
    "for i in list_:\n",
    "    a.append(type(i))\n",
    "print(f'The data type of variables in list_ are ')\n",
    "a"
   ]
  },
  {
   "cell_type": "code",
   "execution_count": 14,
   "id": "ee173ebf-463f-46af-ace7-1c6ebe0c2d15",
   "metadata": {},
   "outputs": [
    {
     "data": {
      "text/plain": [
       "dtype('<U1')"
      ]
     },
     "execution_count": 14,
     "metadata": {},
     "output_type": "execute_result"
    }
   ],
   "source": [
    "#for array_list\n",
    "array_list.dtype\n",
    "#here U1 means it is string type"
   ]
  },
  {
   "cell_type": "code",
   "execution_count": 22,
   "id": "fc0ba46d-031b-4c80-bede-a0ee130631dd",
   "metadata": {},
   "outputs": [
    {
     "name": "stdout",
     "output_type": "stream",
     "text": [
      "Data type of all the element in list_ are [<class 'str'>, <class 'str'>, <class 'str'>, <class 'str'>, <class 'str'>]\n",
      "Data type of all the element in list aarray_list are\n"
     ]
    },
    {
     "data": {
      "text/plain": [
       "[numpy.int64, numpy.int64, numpy.int64, numpy.int64, numpy.int64]"
      ]
     },
     "execution_count": 22,
     "metadata": {},
     "output_type": "execute_result"
    }
   ],
   "source": [
    "#3.>\n",
    "array_list=np.array(list_,dtype=int)\n",
    "a,b=[],[]\n",
    "#for array_list\n",
    "for i in array_list:\n",
    "    b.append(type(i))\n",
    "#for list_\n",
    "for i in list_:\n",
    "    a.append(type(i))\n",
    "print(f'Data type of all the element in list_ are {a}')\n",
    "\n",
    "print(f'Data type of all the element in list aarray_list are')\n",
    "b"
   ]
  },
  {
   "cell_type": "code",
   "execution_count": 23,
   "id": "af5eb620-2640-4df6-a2e0-5630852c6ac7",
   "metadata": {},
   "outputs": [],
   "source": [
    "\n",
    "num_list=[[1,2,3],[4,5,6]]\n",
    "num_array=np.array(object=num_list)"
   ]
  },
  {
   "cell_type": "code",
   "execution_count": 24,
   "id": "30e5801e-17d3-46e1-8345-d3049e2850b0",
   "metadata": {},
   "outputs": [
    {
     "data": {
      "text/plain": [
       "(2, 3)"
      ]
     },
     "execution_count": 24,
     "metadata": {},
     "output_type": "execute_result"
    }
   ],
   "source": [
    "#4.>\n",
    "#(i)\n",
    "num_array.shape"
   ]
  },
  {
   "cell_type": "code",
   "execution_count": 25,
   "id": "ebd8653f-3313-412d-b1de-79fc12cac126",
   "metadata": {},
   "outputs": [
    {
     "data": {
      "text/plain": [
       "6"
      ]
     },
     "execution_count": 25,
     "metadata": {},
     "output_type": "execute_result"
    }
   ],
   "source": [
    "#(ii)\n",
    "num_array.size"
   ]
  },
  {
   "cell_type": "code",
   "execution_count": 26,
   "id": "10dfc7b5-17ef-4260-8dad-4cc3a5d3e6fa",
   "metadata": {},
   "outputs": [
    {
     "data": {
      "text/plain": [
       "array([[0., 0., 0.],\n",
       "       [0., 0., 0.],\n",
       "       [0., 0., 0.]])"
      ]
     },
     "execution_count": 26,
     "metadata": {},
     "output_type": "execute_result"
    }
   ],
   "source": [
    "#5.>\n",
    "np.zeros((3,3))"
   ]
  },
  {
   "cell_type": "code",
   "execution_count": null,
   "id": "2e8b935d-ba3e-4dd3-aa54-e1cecdf964ea",
   "metadata": {},
   "outputs": [],
   "source": [
    "#6.>"
   ]
  }
 ],
 "metadata": {
  "kernelspec": {
   "display_name": "Python 3 (ipykernel)",
   "language": "python",
   "name": "python3"
  },
  "language_info": {
   "codemirror_mode": {
    "name": "ipython",
    "version": 3
   },
   "file_extension": ".py",
   "mimetype": "text/x-python",
   "name": "python",
   "nbconvert_exporter": "python",
   "pygments_lexer": "ipython3",
   "version": "3.10.8"
  }
 },
 "nbformat": 4,
 "nbformat_minor": 5
}
